{
 "cells": [
  {
   "cell_type": "code",
   "execution_count": 2,
   "id": "605b3012-36b0-439d-9768-a77499dad142",
   "metadata": {},
   "outputs": [],
   "source": [
    "## Assignment no -01 Week3 solution"
   ]
  },
  {
   "cell_type": "code",
   "execution_count": 18,
   "id": "0bc2639b-2ea0-413f-80fd-466d1156562a",
   "metadata": {},
   "outputs": [
    {
     "name": "stdout",
     "output_type": "stream",
     "text": [
      "[('Virat Kohli', 24936), ('Jack Kallis', 25534), ('Ricky Ponting', 27483), ('Sachin Tendulkar', 34357)]\n"
     ]
    }
   ],
   "source": [
    "## Q1.\n",
    "\n",
    "given_list = [('Sachin Tendulkar', 34357), ('Ricky Ponting', 27483), ('Jack Kallis', 25534), ('Virat Kohli', 24936)]\n",
    "\n",
    "sort_data = sorted(given_list, key = lambda x : x[1])\n",
    "\n",
    "print(sort_data)"
   ]
  },
  {
   "cell_type": "code",
   "execution_count": 1,
   "id": "9891c129-d555-4525-8e74-6c84fc31c865",
   "metadata": {},
   "outputs": [
    {
     "name": "stdout",
     "output_type": "stream",
     "text": [
      "[1, 4, 9, 16, 25, 36, 49, 64, 81, 100]\n"
     ]
    }
   ],
   "source": [
    "## Q2.\n",
    "\n",
    "given_list = [1,2,3,4,5,6,7,8,9,10]\n",
    "\n",
    "sq_list = map(lambda x : x**2 ,given_list) \n",
    "\n",
    "print(list(sq_list))\n",
    "\n"
   ]
  },
  {
   "cell_type": "code",
   "execution_count": 5,
   "id": "70d15e6f-708b-4f04-a5fd-54610d03a275",
   "metadata": {},
   "outputs": [
    {
     "name": "stdout",
     "output_type": "stream",
     "text": [
      "('1', '2', '3', '4', '5', '6', '7', '8', '9', '10')\n"
     ]
    }
   ],
   "source": [
    "## Q3.\n",
    "\n",
    "l = [1,2,3,4,5,6,7,8,9,10]\n",
    "\n",
    "tuple_str = tuple(map(lambda x : str(x) , l))\n",
    "\n",
    "print(tuple_str)\n",
    "\n",
    "\n"
   ]
  },
  {
   "cell_type": "code",
   "execution_count": 8,
   "id": "a63acc25-0697-4f57-a148-a76b4fea069e",
   "metadata": {},
   "outputs": [
    {
     "name": "stdout",
     "output_type": "stream",
     "text": [
      "15511210043330985984000000\n"
     ]
    }
   ],
   "source": [
    "## Q4.\n",
    "\n",
    "num_list = list(range(1,26))\n",
    "\n",
    "from functools import reduce\n",
    "\n",
    "num_product = reduce(lambda x,y : x*y, num_list)\n",
    "\n",
    "print(num_product)\n",
    "\n"
   ]
  },
  {
   "cell_type": "code",
   "execution_count": 13,
   "id": "3597612d-19ce-4725-a1bb-9be57cdfc16e",
   "metadata": {},
   "outputs": [
    {
     "name": "stdout",
     "output_type": "stream",
     "text": [
      "[6, 60, 90, 120]\n"
     ]
    }
   ],
   "source": [
    "## Q5.\n",
    "\n",
    "given_list = [2,3,6,9,27,60,90,120,55,46]\n",
    "\n",
    "filtered_num = filter(lambda x : x % 2 == 0 and x % 3 == 0, given_list)\n",
    "\n",
    "print(list(filtered_num))\n"
   ]
  },
  {
   "cell_type": "code",
   "execution_count": 8,
   "id": "5315300d-e6af-45aa-8a38-71d0cb96e033",
   "metadata": {},
   "outputs": [
    {
     "name": "stdout",
     "output_type": "stream",
     "text": [
      "['php', 'aba', 'radar', 'level']\n"
     ]
    }
   ],
   "source": [
    "## Q6.\n",
    "\n",
    "provided_list = ['python', 'php', 'aba', 'radar', 'level']\n",
    "\n",
    "fun_pall = lambda x : x == x[::-1]\n",
    "\n",
    "pallindrome_list = filter(fun_pall, provided_list)\n",
    "\n",
    "print(list(pallindrome_list))\n",
    "\n"
   ]
  },
  {
   "cell_type": "code",
   "execution_count": null,
   "id": "170d213d-ac1e-4d3e-9a1b-7a9bd2d0a2a9",
   "metadata": {},
   "outputs": [],
   "source": []
  }
 ],
 "metadata": {
  "kernelspec": {
   "display_name": "Python 3 (ipykernel)",
   "language": "python",
   "name": "python3"
  },
  "language_info": {
   "codemirror_mode": {
    "name": "ipython",
    "version": 3
   },
   "file_extension": ".py",
   "mimetype": "text/x-python",
   "name": "python",
   "nbconvert_exporter": "python",
   "pygments_lexer": "ipython3",
   "version": "3.10.8"
  }
 },
 "nbformat": 4,
 "nbformat_minor": 5
}
